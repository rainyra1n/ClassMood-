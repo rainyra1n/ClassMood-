{
 "cells": [
  {
   "cell_type": "code",
   "execution_count": null,
   "id": "b85e931e",
   "metadata": {},
   "outputs": [],
   "source": [
    "import cv2 \n",
    "import pandas as pd\n",
    "import numpy as np"
   ]
  },
  {
   "cell_type": "code",
   "execution_count": null,
   "id": "ae6dba5f",
   "metadata": {},
   "outputs": [],
   "source": [
    "class FaceToDF:\n",
    "    def __init__(self):\n",
    "        self.detector = cv2.FaceDetectorYN.create(\n",
    "            model='C:/Users/Stepan/Documents/ClassMood/yunet_headpose/face_detection_yunet_2023mar.onnx',\n",
    "            config='',\n",
    "            input_size=(67, 69),\n",
    "            score_threshold=0.8,\n",
    "            nms_threshold=0.3,\n",
    "            top_k=5000\n",
    "        )\n",
    "    \n",
    "        if cv2.cuda.getCudaEnabledDeviceCount() > 0:\n",
    "            self.detector.setBackend(cv2.dnn.DNN_BACKEND_CUDA)\n",
    "            self.detector.setTarget(cv2.dnn.DNN_TARGET_CUDA)\n",
    "            print('Используется GPU')\n",
    "        else:\n",
    "            print('Используется CPU')\n",
    "\n",
    "    def head_pose_img(self, path):\n",
    "        import math\n",
    "\n",
    "        image = cv2.imread(path)\n",
    "        self.detector.setInputSize(image.shape[1::-1])\n",
    "        faces = self.detector.detect(image)[1]\n",
    "        \n",
    "        if faces is None:\n",
    "            return pd.DataFrame()\n",
    "        \n",
    "        columns = [\n",
    "            'face_id', 'x', 'y', 'width', 'height',\n",
    "            'le_x', 'le_y',\n",
    "            're_x', 're_y',\n",
    "            'n_x', 'n_y',\n",
    "            'ml_x', 'ml_y',\n",
    "            'mr_x', 'mr_y',\n",
    "            'confidence',\n",
    "            'tilt_x_raw', 'tilt_y_raw'\n",
    "        ]\n",
    "        data = []\n",
    "\n",
    "        for i, face in enumerate(faces):\n",
    "            row = [i + 1] + face.tolist() + [0.0, 0.0]\n",
    "            data.append(row)\n",
    "        \n",
    "        df = pd.DataFrame(data, columns=columns)\n",
    "        for index, row in df.iterrows():\n",
    "            dif_x = ((row['le_x'] + row['re_x'] + row['ml_x'] + row['mr_x']) / 4) - row['n_x']\n",
    "            df.loc[index, 'tilt_x_raw'] = round(dif_x / df['width'][0], 6)\n",
    "\n",
    "            dif_y = ((row['le_y'] + row['re_y'] + row['ml_y'] + row['mr_y']) / 4) - row['n_y']\n",
    "            df.loc[index, 'tilt_y_raw'] = round(dif_y / df['height'][0], 6)\n",
    "        \n",
    "        return faces"
   ]
  },
  {
   "cell_type": "code",
   "execution_count": null,
   "id": "7420dee9",
   "metadata": {},
   "outputs": [],
   "source": [
    "face_to_dataframe = FaceToDF()\n",
    "face_to_dataframe.head_pose_img('C:/Users/Stepan/Documents/ClassMood/yunet_headpose/test_img.jpg')"
   ]
  },
  {
   "cell_type": "markdown",
   "id": "af0ca8bd",
   "metadata": {},
   "source": [
    "внизу приведен отладчик, строит на одном лице на фото 5 ключевых точек с подписями"
   ]
  },
  {
   "cell_type": "code",
   "execution_count": null,
   "id": "df652fa4",
   "metadata": {},
   "outputs": [],
   "source": [
    "def draw_landmarks_on_image(image, landmarks, labels=None, color=(0, 0, 255), radius=5, thickness=-1, font_scale=1, font_thickness=2):\n",
    "    output_image = image.copy()\n",
    "\n",
    "    for i, (x, y) in enumerate(landmarks):\n",
    "        cx, cy = int(x), int(y)\n",
    "        \n",
    "        cv2.circle(output_image, (cx, cy), radius, color, thickness)\n",
    "        \n",
    "        if labels and i < len(labels):\n",
    "            cv2.putText(\n",
    "                output_image,\n",
    "                str(labels[i]),\n",
    "                (cx + 5, cy - 5),\n",
    "                cv2.FONT_HERSHEY_SIMPLEX,\n",
    "                font_scale,\n",
    "                (255, 0, 0),\n",
    "                font_thickness\n",
    "            )\n",
    "\n",
    "    return output_image\n",
    "\n",
    "\n",
    "def otladka(imgpath):\n",
    "    landmarks_flat = face_to_dataframe.head_pose_img(imgpath)[0][4:-1]\n",
    "    landmarks = landmarks_flat.reshape(-1, 2)\n",
    "\n",
    "    image_with_landmarks = draw_landmarks_on_image(\n",
    "        image=cv2.imread(imgpath),\n",
    "        landmarks=landmarks,\n",
    "        labels=['LE', 'RE', 'N', 'LM', 'RM'],\n",
    "        color=(0, 0, 255),\n",
    "        radius=5\n",
    "    )\n",
    "\n",
    "\n",
    "    output_path = imgpath\n",
    "    cv2.imwrite(output_path, image_with_landmarks)\n",
    "\n",
    "otladka('C:/Users/Stepan/Documents/ClassMood/yunet_headpose/test_img21.jpg')"
   ]
  }
 ],
 "metadata": {
  "kernelspec": {
   "display_name": "Python 3",
   "language": "python",
   "name": "python3"
  },
  "language_info": {
   "codemirror_mode": {
    "name": "ipython",
    "version": 3
   },
   "file_extension": ".py",
   "mimetype": "text/x-python",
   "name": "python",
   "nbconvert_exporter": "python",
   "pygments_lexer": "ipython3",
   "version": "3.10.0"
  }
 },
 "nbformat": 4,
 "nbformat_minor": 5
}
